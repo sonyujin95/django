{
 "cells": [
  {
   "cell_type": "code",
   "execution_count": 1,
   "id": "a30b6edd",
   "metadata": {},
   "outputs": [],
   "source": [
    "# django shell 기능을 jupyter notebook을 이용해 작업\n",
    "# - django 프로젝트 ROOT 디렉토리에서 주피터노트북을 실행\n",
    "# - jupyter notebook에서 django shell을 사용하기 위해서 환경설정\n",
    "import os\n",
    "os.environ['DJANGO_SETTINGS_MODULE'] = 'config.settings'  # root/config/settings.py 경로 지정.\n",
    "os.environ['DJANGO_ALLOW_ASYNC_UNSAFE'] = 'true'\n",
    "\n",
    "import django\n",
    "django.setup()"
   ]
  },
  {
   "cell_type": "code",
   "execution_count": 2,
   "id": "4791c56f",
   "metadata": {},
   "outputs": [],
   "source": [
    "from poll.models import Question, Choice"
   ]
  },
  {
   "cell_type": "code",
   "execution_count": 3,
   "id": "aa1e594c",
   "metadata": {},
   "outputs": [
    {
     "name": "stdout",
     "output_type": "stream",
     "text": [
      "<class 'django.db.models.manager.Manager'>\n"
     ]
    }
   ],
   "source": [
    "mm = Question.objects\n",
    "print(type(mm))"
   ]
  },
  {
   "cell_type": "code",
   "execution_count": 4,
   "id": "dc0570c0",
   "metadata": {},
   "outputs": [
    {
     "data": {
      "text/plain": [
       "<QuerySet [<Question: 좋아하는 색깔은 무엇입니까?>, <Question: 좋아하는 동물은 무엇입니까?>, <Question: 가고 싶은 나라를 선택하세요.>, <Question: 싫어하는 동물은 무엇입니까?>]>"
      ]
     },
     "execution_count": 4,
     "metadata": {},
     "output_type": "execute_result"
    }
   ],
   "source": [
    "mm.all()"
   ]
  },
  {
   "cell_type": "markdown",
   "id": "217c58da",
   "metadata": {},
   "source": [
    "모델클래스.objects.SQL메소드()[.SQL메소드()...]"
   ]
  },
  {
   "cell_type": "markdown",
   "id": "f8346c20",
   "metadata": {},
   "source": [
    "# 조회(select)\n",
    "- all(): 전체조회"
   ]
  },
  {
   "cell_type": "code",
   "execution_count": 5,
   "id": "2fd3e1b5",
   "metadata": {},
   "outputs": [
    {
     "name": "stdout",
     "output_type": "stream",
     "text": [
      "<class 'django.db.models.query.QuerySet'>\n",
      "SELECT \"poll_question\".\"id\", \"poll_question\".\"question_text\", \"poll_question\".\"pub_date\" FROM \"poll_question\"\n"
     ]
    }
   ],
   "source": [
    "qs = Question.objects.all()  # select * from question\n",
    "# 조회결과는 QuerySet 객체 반환\n",
    "# QuestSet - 조회결과를 조회, 추가 SQL문을 실행\n",
    "print(type(qs))\n",
    "print(qs.query)"
   ]
  },
  {
   "cell_type": "code",
   "execution_count": 6,
   "id": "c616e010",
   "metadata": {},
   "outputs": [
    {
     "data": {
      "text/plain": [
       "<QuerySet [<Question: 좋아하는 색깔은 무엇입니까?>, <Question: 좋아하는 동물은 무엇입니까?>, <Question: 가고 싶은 나라를 선택하세요.>, <Question: 싫어하는 동물은 무엇입니까?>]>"
      ]
     },
     "execution_count": 6,
     "metadata": {},
     "output_type": "execute_result"
    }
   ],
   "source": [
    "qs  # iterable"
   ]
  },
  {
   "cell_type": "code",
   "execution_count": 7,
   "id": "e110504e",
   "metadata": {},
   "outputs": [
    {
     "name": "stdout",
     "output_type": "stream",
     "text": [
      "<class 'poll.models.Question'> 좋아하는 색깔은 무엇입니까? -- 좋아하는 색깔은 무엇입니까? 2021-10-05 08:17:35.161348+00:00 1 1\n",
      "<class 'poll.models.Question'> 좋아하는 동물은 무엇입니까? -- 좋아하는 동물은 무엇입니까? 2021-10-05 08:17:48.995562+00:00 2 2\n",
      "<class 'poll.models.Question'> 가고 싶은 나라를 선택하세요. -- 가고 싶은 나라를 선택하세요. 2021-10-05 08:17:59.136089+00:00 3 3\n",
      "<class 'poll.models.Question'> 싫어하는 동물은 무엇입니까? -- 싫어하는 동물은 무엇입니까? 2021-10-05 08:18:11.234816+00:00 4 4\n"
     ]
    }
   ],
   "source": [
    "for m in qs:\n",
    "    print(type(m), m, \"--\", m.question_text, m.pub_date, m.id, m.pk)  # model.pk : primary 컬럼의 값을 조회"
   ]
  },
  {
   "cell_type": "code",
   "execution_count": 8,
   "id": "f4a8c3a5",
   "metadata": {},
   "outputs": [],
   "source": [
    "# QuerySet: iterable - 반복문으로 조회, indexing, slicing"
   ]
  },
  {
   "cell_type": "code",
   "execution_count": 9,
   "id": "3b12546c",
   "metadata": {},
   "outputs": [
    {
     "name": "stdout",
     "output_type": "stream",
     "text": [
      "id: 3 등록일시 2021-10-05 08:17:59.136089+00:00 ,질문: 싫어하는 동물은 무엇입니까?\n"
     ]
    }
   ],
   "source": [
    "qs[2]\n",
    "print(\"id:\", qs[2].pk, \"등록일시\", qs[2].pub_date, \",질문:\", qs[3].question_text)"
   ]
  },
  {
   "cell_type": "code",
   "execution_count": 10,
   "id": "373c1e1c",
   "metadata": {},
   "outputs": [],
   "source": [
    "# 음수 indexing은 지원 안한다.\n",
    "# qs[-1]"
   ]
  },
  {
   "cell_type": "code",
   "execution_count": 11,
   "id": "e4c541eb",
   "metadata": {},
   "outputs": [
    {
     "data": {
      "text/plain": [
       "[<Question: 좋아하는 동물은 무엇입니까?>,\n",
       " <Question: 가고 싶은 나라를 선택하세요.>,\n",
       " <Question: 싫어하는 동물은 무엇입니까?>]"
      ]
     },
     "execution_count": 11,
     "metadata": {},
     "output_type": "execute_result"
    }
   ],
   "source": [
    "qs[1:4]"
   ]
  },
  {
   "cell_type": "code",
   "execution_count": 12,
   "id": "fcabbd63",
   "metadata": {},
   "outputs": [
    {
     "data": {
      "text/plain": [
       "[<Question: 좋아하는 색깔은 무엇입니까?>, <Question: 가고 싶은 나라를 선택하세요.>]"
      ]
     },
     "execution_count": 12,
     "metadata": {},
     "output_type": "execute_result"
    }
   ],
   "source": [
    "qs[::2]"
   ]
  },
  {
   "cell_type": "code",
   "execution_count": 13,
   "id": "71b2c9b9",
   "metadata": {},
   "outputs": [
    {
     "data": {
      "text/plain": [
       "<Question: 좋아하는 색깔은 무엇입니까?>"
      ]
     },
     "execution_count": 13,
     "metadata": {},
     "output_type": "execute_result"
    }
   ],
   "source": [
    "qs.first()  # 조회결과 중 첫번째 것 반환"
   ]
  },
  {
   "cell_type": "code",
   "execution_count": 14,
   "id": "32fbfac9",
   "metadata": {},
   "outputs": [
    {
     "data": {
      "text/plain": [
       "<Question: 싫어하는 동물은 무엇입니까?>"
      ]
     },
     "execution_count": 14,
     "metadata": {},
     "output_type": "execute_result"
    }
   ],
   "source": [
    "qs.last()  # 조회결과 중 마지막 것 반환"
   ]
  },
  {
   "cell_type": "markdown",
   "id": "1d0cc454",
   "metadata": {},
   "source": [
    "## where 절 이용한 조회\n",
    "조회조건이 있는 조회\n",
    "- filter(조회조건): 조건을 만족하는 행이 0개 이상일 경우\n",
    "- exclude(조회조건): filter()반대. 조건을 만족하지 않는 0개이상의 행동을 조회\n",
    "- get(조회조건): 조회조건을 만족하는 1개 행 조회. PK 로 조회할 때 사용. 조회결과가 0개이거나 2개 이상인 경우 Exception 발생.\n",
    "- filter/exclude() 반환타입: QuerySet\n",
    "- get() 반환타입: Model객체 반환"
   ]
  },
  {
   "cell_type": "code",
   "execution_count": 15,
   "id": "1fb31fee",
   "metadata": {},
   "outputs": [
    {
     "data": {
      "text/plain": [
       "(2,\n",
       " '좋아하는 동물은 무엇입니까?',\n",
       " datetime.datetime(2021, 10, 5, 8, 17, 48, 995562, tzinfo=<UTC>))"
      ]
     },
     "execution_count": 15,
     "metadata": {},
     "output_type": "execute_result"
    }
   ],
   "source": [
    "# pk(id) = 2\n",
    "qs = Question.objects.filter(id=2)\n",
    "r = qs.first()\n",
    "r.id, r.question_text, r.pub_date"
   ]
  },
  {
   "cell_type": "code",
   "execution_count": 16,
   "id": "79fec51c",
   "metadata": {},
   "outputs": [
    {
     "name": "stdout",
     "output_type": "stream",
     "text": [
      "<class 'poll.models.Question'>\n"
     ]
    },
    {
     "data": {
      "text/plain": [
       "(2, '좋아하는 동물은 무엇입니까?')"
      ]
     },
     "execution_count": 16,
     "metadata": {},
     "output_type": "execute_result"
    }
   ],
   "source": [
    "question = Question.objects.get(pk=2)\n",
    "print(type(question))\n",
    "question.pk, question.question_text"
   ]
  },
  {
   "cell_type": "code",
   "execution_count": 17,
   "id": "17633fd2",
   "metadata": {},
   "outputs": [
    {
     "name": "stdout",
     "output_type": "stream",
     "text": [
      "SELECT \"poll_question\".\"id\", \"poll_question\".\"question_text\", \"poll_question\".\"pub_date\" FROM \"poll_question\" WHERE NOT (\"poll_question\".\"id\" = 2)\n"
     ]
    },
    {
     "data": {
      "text/plain": [
       "<QuerySet [<Question: 좋아하는 색깔은 무엇입니까?>, <Question: 가고 싶은 나라를 선택하세요.>, <Question: 싫어하는 동물은 무엇입니까?>]>"
      ]
     },
     "execution_count": 17,
     "metadata": {},
     "output_type": "execute_result"
    }
   ],
   "source": [
    "qs = Question.objects.exclude(pk=2)  # where pk <> 2\n",
    "print(qs.query)\n",
    "qs"
   ]
  },
  {
   "cell_type": "code",
   "execution_count": 18,
   "id": "efcc07e0",
   "metadata": {},
   "outputs": [
    {
     "name": "stdout",
     "output_type": "stream",
     "text": [
      "id가 100인 질문은 없습니다.\n"
     ]
    }
   ],
   "source": [
    "try:\n",
    "    q = Question.objects.get(pk=100)  # 없는 것 조회: DoesNotExist Exception 발생\n",
    "#     추가작업\n",
    "except:\n",
    "    print(\"id가 100인 질문은 없습니다.\")"
   ]
  },
  {
   "cell_type": "code",
   "execution_count": 19,
   "id": "8401dc63",
   "metadata": {},
   "outputs": [
    {
     "data": {
      "text/plain": [
       "<QuerySet []>"
      ]
     },
     "execution_count": 19,
     "metadata": {},
     "output_type": "execute_result"
    }
   ],
   "source": [
    "Question.objects.filter(pk=100)"
   ]
  },
  {
   "cell_type": "code",
   "execution_count": 20,
   "id": "957c5492",
   "metadata": {},
   "outputs": [
    {
     "ename": "MultipleObjectsReturned",
     "evalue": "get() returned more than one Question -- it returned 3!",
     "output_type": "error",
     "traceback": [
      "\u001b[1;31m---------------------------------------------------------------------------\u001b[0m",
      "\u001b[1;31mMultipleObjectsReturned\u001b[0m                   Traceback (most recent call last)",
      "\u001b[1;32m~\\AppData\\Local\\Temp/ipykernel_1020/2946975924.py\u001b[0m in \u001b[0;36m<module>\u001b[1;34m\u001b[0m\n\u001b[1;32m----> 1\u001b[1;33m \u001b[0mq\u001b[0m \u001b[1;33m=\u001b[0m \u001b[0mQuestion\u001b[0m\u001b[1;33m.\u001b[0m\u001b[0mobjects\u001b[0m\u001b[1;33m.\u001b[0m\u001b[0mget\u001b[0m\u001b[1;33m(\u001b[0m\u001b[0mpk__gt\u001b[0m\u001b[1;33m=\u001b[0m\u001b[1;36m1\u001b[0m\u001b[1;33m)\u001b[0m  \u001b[1;31m# where pk > 1 : 1개 이상이 조회되는 경우 get()-MultipleObjectsReturned Exception 발생\u001b[0m\u001b[1;33m\u001b[0m\u001b[1;33m\u001b[0m\u001b[0m\n\u001b[0m",
      "\u001b[1;32m~\\Anaconda3\\envs\\django\\lib\\site-packages\\django\\db\\models\\manager.py\u001b[0m in \u001b[0;36mmanager_method\u001b[1;34m(self, *args, **kwargs)\u001b[0m\n\u001b[0;32m     83\u001b[0m         \u001b[1;32mdef\u001b[0m \u001b[0mcreate_method\u001b[0m\u001b[1;33m(\u001b[0m\u001b[0mname\u001b[0m\u001b[1;33m,\u001b[0m \u001b[0mmethod\u001b[0m\u001b[1;33m)\u001b[0m\u001b[1;33m:\u001b[0m\u001b[1;33m\u001b[0m\u001b[1;33m\u001b[0m\u001b[0m\n\u001b[0;32m     84\u001b[0m             \u001b[1;32mdef\u001b[0m \u001b[0mmanager_method\u001b[0m\u001b[1;33m(\u001b[0m\u001b[0mself\u001b[0m\u001b[1;33m,\u001b[0m \u001b[1;33m*\u001b[0m\u001b[0margs\u001b[0m\u001b[1;33m,\u001b[0m \u001b[1;33m**\u001b[0m\u001b[0mkwargs\u001b[0m\u001b[1;33m)\u001b[0m\u001b[1;33m:\u001b[0m\u001b[1;33m\u001b[0m\u001b[1;33m\u001b[0m\u001b[0m\n\u001b[1;32m---> 85\u001b[1;33m                 \u001b[1;32mreturn\u001b[0m \u001b[0mgetattr\u001b[0m\u001b[1;33m(\u001b[0m\u001b[0mself\u001b[0m\u001b[1;33m.\u001b[0m\u001b[0mget_queryset\u001b[0m\u001b[1;33m(\u001b[0m\u001b[1;33m)\u001b[0m\u001b[1;33m,\u001b[0m \u001b[0mname\u001b[0m\u001b[1;33m)\u001b[0m\u001b[1;33m(\u001b[0m\u001b[1;33m*\u001b[0m\u001b[0margs\u001b[0m\u001b[1;33m,\u001b[0m \u001b[1;33m**\u001b[0m\u001b[0mkwargs\u001b[0m\u001b[1;33m)\u001b[0m\u001b[1;33m\u001b[0m\u001b[1;33m\u001b[0m\u001b[0m\n\u001b[0m\u001b[0;32m     86\u001b[0m             \u001b[0mmanager_method\u001b[0m\u001b[1;33m.\u001b[0m\u001b[0m__name__\u001b[0m \u001b[1;33m=\u001b[0m \u001b[0mmethod\u001b[0m\u001b[1;33m.\u001b[0m\u001b[0m__name__\u001b[0m\u001b[1;33m\u001b[0m\u001b[1;33m\u001b[0m\u001b[0m\n\u001b[0;32m     87\u001b[0m             \u001b[0mmanager_method\u001b[0m\u001b[1;33m.\u001b[0m\u001b[0m__doc__\u001b[0m \u001b[1;33m=\u001b[0m \u001b[0mmethod\u001b[0m\u001b[1;33m.\u001b[0m\u001b[0m__doc__\u001b[0m\u001b[1;33m\u001b[0m\u001b[1;33m\u001b[0m\u001b[0m\n",
      "\u001b[1;32m~\\Anaconda3\\envs\\django\\lib\\site-packages\\django\\db\\models\\query.py\u001b[0m in \u001b[0;36mget\u001b[1;34m(self, *args, **kwargs)\u001b[0m\n\u001b[0;32m    437\u001b[0m                 \u001b[0mself\u001b[0m\u001b[1;33m.\u001b[0m\u001b[0mmodel\u001b[0m\u001b[1;33m.\u001b[0m\u001b[0m_meta\u001b[0m\u001b[1;33m.\u001b[0m\u001b[0mobject_name\u001b[0m\u001b[1;33m\u001b[0m\u001b[1;33m\u001b[0m\u001b[0m\n\u001b[0;32m    438\u001b[0m             )\n\u001b[1;32m--> 439\u001b[1;33m         raise self.model.MultipleObjectsReturned(\n\u001b[0m\u001b[0;32m    440\u001b[0m             'get() returned more than one %s -- it returned %s!' % (\n\u001b[0;32m    441\u001b[0m                 \u001b[0mself\u001b[0m\u001b[1;33m.\u001b[0m\u001b[0mmodel\u001b[0m\u001b[1;33m.\u001b[0m\u001b[0m_meta\u001b[0m\u001b[1;33m.\u001b[0m\u001b[0mobject_name\u001b[0m\u001b[1;33m,\u001b[0m\u001b[1;33m\u001b[0m\u001b[1;33m\u001b[0m\u001b[0m\n",
      "\u001b[1;31mMultipleObjectsReturned\u001b[0m: get() returned more than one Question -- it returned 3!"
     ]
    }
   ],
   "source": [
    "q = Question.objects.get(pk__gt=1)  # where pk > 1 : 1개 이상이 조회되는 경우 get()-MultipleObjectsReturned Exception 발생"
   ]
  },
  {
   "cell_type": "code",
   "execution_count": 21,
   "id": "4f9f0542",
   "metadata": {},
   "outputs": [
    {
     "name": "stdout",
     "output_type": "stream",
     "text": [
      "SELECT \"poll_question\".\"id\", \"poll_question\".\"question_text\", \"poll_question\".\"pub_date\" FROM \"poll_question\" WHERE \"poll_question\".\"question_text\" LIKE %동물% ESCAPE '\\'\n",
      "2 좋아하는 동물은 무엇입니까?\n",
      "4 싫어하는 동물은 무엇입니까?\n"
     ]
    }
   ],
   "source": [
    "# 조회조건\n",
    "qs = Question.objects.filter(pk__lt=3)  # pk < 3\n",
    "qs = Question.objects.filter(pk__lte=3)  # pk <= 3\n",
    "qs = Question.objects.filter(pk__gt=3)  # pk > 3\n",
    "qs = Question.objects.filter(pk__gte=3)  # pk >= 3\n",
    "qs = Question.objects.filter(pk__in=[1,4,6])  # pk in (1,4,6)\n",
    "qs = Question.objects.filter(pk__range=[2,5])  # pk between 2 and 5-1\n",
    "qs = Question.objects.filter(question_text__startswith=\"좋아하는\")  # question_text like '좋아하는%' 좋아하는 으로 시작하는\n",
    "qs = Question.objects.filter(question_text__endswith='무엇입니까?')  # question_text like '%무엇입니까?' 무엇입니까로 끝나는\n",
    "qs = Question.objects.filter(question_text__contains='동물')  # question_text like '%동물%' 동물이 들어간\n",
    "print(qs.query)\n",
    "for m in qs:\n",
    "    print(m.pk, m.question_text)"
   ]
  },
  {
   "cell_type": "markdown",
   "id": "6f46b8dd",
   "metadata": {},
   "source": [
    "### AND로 조건을 묶는 경우\n",
    "- 조회함수들의 매개변수에 조건들을 나열해 준다."
   ]
  },
  {
   "cell_type": "code",
   "execution_count": 22,
   "id": "20d76f3d",
   "metadata": {},
   "outputs": [
    {
     "name": "stdout",
     "output_type": "stream",
     "text": [
      "SELECT \"poll_question\".\"id\", \"poll_question\".\"question_text\", \"poll_question\".\"pub_date\" FROM \"poll_question\" WHERE (\"poll_question\".\"id\" = 2 AND \"poll_question\".\"question_text\" LIKE 좋아하는% ESCAPE '\\')\n",
      "2 좋아하는 동물은 무엇입니까?\n"
     ]
    }
   ],
   "source": [
    "# pk = 2 and q_text가 \"좋아하는으로 시작\"\n",
    "qs = Question.objects.filter(pk=2, question_text__startswith='좋아하는')\n",
    "\n",
    "print(qs.query)\n",
    "for m in qs:\n",
    "    print(m.pk, m.question_text)"
   ]
  },
  {
   "cell_type": "markdown",
   "id": "e865a87d",
   "metadata": {},
   "source": [
    "### OR로 조건들을 묶는 경우\n",
    "- 개별 조건을 Q()에 넣고 `|` 사용"
   ]
  },
  {
   "cell_type": "code",
   "execution_count": 23,
   "id": "f861d4e5",
   "metadata": {},
   "outputs": [
    {
     "name": "stdout",
     "output_type": "stream",
     "text": [
      "SELECT \"poll_question\".\"id\", \"poll_question\".\"question_text\", \"poll_question\".\"pub_date\" FROM \"poll_question\" WHERE (\"poll_question\".\"id\" < 3 OR \"poll_question\".\"question_text\" LIKE %어디인가요? ESCAPE '\\')\n",
      "1 좋아하는 색깔은 무엇입니까?\n",
      "2 좋아하는 동물은 무엇입니까?\n"
     ]
    }
   ],
   "source": [
    "# pk > 3 or question_text like '%어디인가요?'\n",
    "from django.db.models import Q\n",
    "\n",
    "qs = Question.objects.filter(Q(pk__lt=3) | Q(question_text__endswith='어디인가요?'))\n",
    "\n",
    "print(qs.query)\n",
    "for m in qs:\n",
    "    print(m.pk, m.question_text)"
   ]
  },
  {
   "cell_type": "markdown",
   "id": "e98c098f",
   "metadata": {},
   "source": [
    "### 컬럼선택, 정렬\n",
    "- values(조회할컬럼변수나열): 컬럼 선택\n",
    "    - 조회한 데이터를 directory에 넣어서 반환 - QuerySet[{},{}]\n",
    "- order_by(기준컬럼): 정렬-ASC(기본) \"-컬럼명\": DESC"
   ]
  },
  {
   "cell_type": "code",
   "execution_count": 24,
   "id": "05e48850",
   "metadata": {},
   "outputs": [
    {
     "data": {
      "text/plain": [
       "<QuerySet [<Choice: 검정색>, <Choice: 빨간색>, <Choice: 뱀>, <Choice: 쥐>, <Choice: 고라니>, <Choice: 악어>, <Choice: 보라색>, <Choice: 민트색>, <Choice: 강아지>, <Choice: 고양이>, <Choice: 원숭이>, <Choice: 판다>, <Choice: 독일>, <Choice: 영국>, <Choice: 스페인>, <Choice: 이탈리아>]>"
      ]
     },
     "execution_count": 24,
     "metadata": {},
     "output_type": "execute_result"
    }
   ],
   "source": [
    "Choice.objects.all()"
   ]
  },
  {
   "cell_type": "code",
   "execution_count": 27,
   "id": "6510cb0d",
   "metadata": {},
   "outputs": [
    {
     "name": "stdout",
     "output_type": "stream",
     "text": [
      "SELECT \"poll_choice\".\"Choice_text\", \"poll_choice\".\"vote\" FROM \"poll_choice\"\n",
      "<QuerySet [{'Choice_text': '검정색', 'vote': 0}, {'Choice_text': '빨간색', 'vote': 0}, {'Choice_text': '뱀', 'vote': 0}, {'Choice_text': '쥐', 'vote': 3}, {'Choice_text': '고라니', 'vote': 8}, {'Choice_text': '악어', 'vote': 6}, {'Choice_text': '보라색', 'vote': 2}, {'Choice_text': '민트색', 'vote': 14}, {'Choice_text': '강아지', 'vote': 13}, {'Choice_text': '고양이', 'vote': 6}, {'Choice_text': '원숭이', 'vote': 3}, {'Choice_text': '판다', 'vote': 6}, {'Choice_text': '독일', 'vote': 3}, {'Choice_text': '영국', 'vote': 3}, {'Choice_text': '스페인', 'vote': 22}, {'Choice_text': '이탈리아', 'vote': 4}]>\n",
      "검정색\t0\n",
      "빨간색\t0\n",
      "뱀\t0\n",
      "쥐\t3\n",
      "고라니\t8\n",
      "악어\t6\n",
      "보라색\t2\n",
      "민트색\t14\n",
      "강아지\t13\n",
      "고양이\t6\n",
      "원숭이\t3\n",
      "판다\t6\n",
      "독일\t3\n",
      "영국\t3\n",
      "스페인\t22\n",
      "이탈리아\t4\n"
     ]
    }
   ],
   "source": [
    "# qs = Choice.objects.all().values('choice_text', 'vote')  # select choice_text, vote  from choice\n",
    "qs = Choice.objects.values('Choice_text', 'vote').all()\n",
    "print(qs.query)\n",
    "print(qs)\n",
    "for m in qs:\n",
    "# #     print(m.pk, m.choice_text, m.vote, m.question, type(m.question), sep='\\t')\n",
    "    print(m['Choice_text'], m['vote'], sep='\\t')"
   ]
  },
  {
   "cell_type": "code",
   "execution_count": 31,
   "id": "f560a404",
   "metadata": {},
   "outputs": [
    {
     "name": "stdout",
     "output_type": "stream",
     "text": [
      "SELECT \"poll_choice\".\"id\", \"poll_choice\".\"Choice_text\" FROM \"poll_choice\" WHERE \"poll_choice\".\"id\" < 7 ORDER BY \"poll_choice\".\"Choice_text\" DESC, \"poll_choice\".\"id\" ASC\n",
      "5 쥐\n",
      "2 빨간색\n",
      "4 뱀\n",
      "6 고라니\n",
      "1 검정색\n"
     ]
    }
   ],
   "source": [
    "# qs = Choice.objects.values('id', 'Choice_text').all().order_by('choice_text')  # choice_text를 기준으로 ASC 정렬\n",
    "# qs = Choice.objects.values('id', 'Choice_text').all().order_by('-choice_text')  # choice_text를 기준으로 DESC 정렬\n",
    "# qs = Choice.objects.values('id', 'Choice_text').all().order_by('-choice_text', 'id')\n",
    "qs = Choice.objects.values('id', 'Choice_text').filter(pk__lt=7).order_by('-Choice_text', 'id')\n",
    "print(qs.query)\n",
    "for m in qs:\n",
    "    print(m['id'], m['Choice_text'])"
   ]
  },
  {
   "cell_type": "markdown",
   "id": "1dd7d179",
   "metadata": {},
   "source": [
    "select 컬럼명 -values() from 테이블명 - 모델클래스명 where 조건 - filter, exclude, get 메소드<br>\n",
    "order by 정렬조건 - order_by()메소드"
   ]
  },
  {
   "cell_type": "markdown",
   "id": "772e371e",
   "metadata": {},
   "source": [
    "### 집계함수"
   ]
  },
  {
   "cell_type": "code",
   "execution_count": 32,
   "id": "c2f74e7a",
   "metadata": {},
   "outputs": [
    {
     "name": "stdout",
     "output_type": "stream",
     "text": [
      "16 16\n"
     ]
    }
   ],
   "source": [
    "# 조회한 데이터에 개수 조회\n",
    "# QuerySet.count(), len(QuerySet)\n",
    "qs = Choice.objects.all()\n",
    "print(qs.count(), len(qs))"
   ]
  },
  {
   "cell_type": "markdown",
   "id": "c9db94f4",
   "metadata": {},
   "source": [
    "- 전체 데이터셋 기준 집계\n",
    "    - aggregate(집계함수(), 집계함수()...)\n",
    "- Groupby 집계\n",
    "    - values(\"나눌기준컬럼명\", ..).annotate(집계함수(), ..)\n",
    "- 결과를 dictionary에 넣어서 반환"
   ]
  },
  {
   "cell_type": "code",
   "execution_count": 33,
   "id": "367209e9",
   "metadata": {},
   "outputs": [],
   "source": [
    "# 집계함수들 import\n",
    "from django.db.models import Count, Sum, Avg, Min, Max, StdDev, Variance"
   ]
  },
  {
   "cell_type": "code",
   "execution_count": 36,
   "id": "a6187e64",
   "metadata": {},
   "outputs": [
    {
     "data": {
      "text/plain": [
       "{'vote__count': 16,\n",
       " 'vote__sum': 93,\n",
       " 'vote__min': 0,\n",
       " 'vote__max': 22,\n",
       " 'vote__stddev': 5.790280109804706,\n",
       " 'vote__variance': 33.52734375}"
      ]
     },
     "execution_count": 36,
     "metadata": {},
     "output_type": "execute_result"
    }
   ],
   "source": [
    "# 전체 데이터셋 기준 집계\n",
    "# select count(vote)\n",
    "result = Choice.objects.aggregate(Count('vote'), Sum('vote'), Min('vote'), Max('vote'), StdDev('vote'), Variance('vote'))\n",
    "result"
   ]
  },
  {
   "cell_type": "code",
   "execution_count": 51,
   "id": "ca608296",
   "metadata": {},
   "outputs": [
    {
     "ename": "KeyError",
     "evalue": "'vote__avg'",
     "output_type": "error",
     "traceback": [
      "\u001b[1;31m---------------------------------------------------------------------------\u001b[0m",
      "\u001b[1;31mKeyError\u001b[0m                                  Traceback (most recent call last)",
      "\u001b[1;32m~\\AppData\\Local\\Temp/ipykernel_1020/4281254304.py\u001b[0m in \u001b[0;36m<module>\u001b[1;34m\u001b[0m\n\u001b[0;32m      1\u001b[0m \u001b[1;31m# 결과 key: field이름__집계이름\u001b[0m\u001b[1;33m\u001b[0m\u001b[1;33m\u001b[0m\u001b[1;33m\u001b[0m\u001b[0m\n\u001b[0;32m      2\u001b[0m \u001b[1;31m# result.keys()\u001b[0m\u001b[1;33m\u001b[0m\u001b[1;33m\u001b[0m\u001b[1;33m\u001b[0m\u001b[0m\n\u001b[1;32m----> 3\u001b[1;33m \u001b[0mresult\u001b[0m\u001b[1;33m[\u001b[0m\u001b[1;34m'vote__avg'\u001b[0m\u001b[1;33m]\u001b[0m\u001b[1;33m\u001b[0m\u001b[1;33m\u001b[0m\u001b[0m\n\u001b[0m",
      "\u001b[1;31mKeyError\u001b[0m: 'vote__avg'"
     ]
    }
   ],
   "source": [
    "# 결과 key: field이름__집계이름\n",
    "# result.keys()\n",
    "result['vote__avg']"
   ]
  },
  {
   "cell_type": "code",
   "execution_count": 39,
   "id": "3305944a",
   "metadata": {},
   "outputs": [
    {
     "data": {
      "text/plain": [
       "{'pub_date__min': datetime.datetime(2021, 10, 5, 8, 17, 35, 161348, tzinfo=<UTC>),\n",
       " 'pub_date__max': datetime.datetime(2021, 10, 5, 8, 18, 11, 234816, tzinfo=<UTC>)}"
      ]
     },
     "execution_count": 39,
     "metadata": {},
     "output_type": "execute_result"
    }
   ],
   "source": [
    "# select min(pub_date)\n",
    "# datetime. data. time 타입: min-과거, max-미래\n",
    "result2 = Question.objects.aggregate(Min('pub_date'), Max('pub_date'))\n",
    "result2"
   ]
  },
  {
   "cell_type": "code",
   "execution_count": 42,
   "id": "85d9ae30",
   "metadata": {},
   "outputs": [
    {
     "name": "stdout",
     "output_type": "stream",
     "text": [
      "<class 'datetime.datetime'>\n"
     ]
    },
    {
     "data": {
      "text/plain": [
       "(2021, 10, 5, 8, 17, 35)"
      ]
     },
     "execution_count": 42,
     "metadata": {},
     "output_type": "execute_result"
    }
   ],
   "source": [
    "min_date = result2['pub_date__min']\n",
    "print(type(min_date))\n",
    "min_date.year, min_date.month, min_date.day, min_date.hour, min_date.minute, min_date.second"
   ]
  },
  {
   "cell_type": "code",
   "execution_count": 47,
   "id": "755a5921",
   "metadata": {},
   "outputs": [
    {
     "name": "stdout",
     "output_type": "stream",
     "text": [
      "2021년 10월 05일 08:17:35 <class 'str'>\n"
     ]
    }
   ],
   "source": [
    "# datetime.strftime(\"형식문자\") %Y:연도, %m:월, %d:일, %H: 시간(24), %M: 분, %S: 초 => 원하는 형식의 문자열로 변환\n",
    "r = min_date.strftime(\"%Y년 %m월 %d일 %H:%M:%S\")\n",
    "print(r, type(r))"
   ]
  },
  {
   "cell_type": "code",
   "execution_count": 52,
   "id": "b40f073b",
   "metadata": {},
   "outputs": [
    {
     "name": "stdout",
     "output_type": "stream",
     "text": [
      "{'question': 1, 'vote__sum': 16, 'vote__avg': 4.0, 'Choice_text__max': '빨간색'}\n",
      "{'question': 2, 'vote__sum': 28, 'vote__avg': 7.0, 'Choice_text__max': '판다'}\n",
      "{'question': 3, 'vote__sum': 32, 'vote__avg': 8.0, 'Choice_text__max': '이탈리아'}\n",
      "{'question': 4, 'vote__sum': 17, 'vote__avg': 4.25, 'Choice_text__max': '쥐'}\n"
     ]
    }
   ],
   "source": [
    "# groupby\n",
    "# select sum(vote), ... from choice groupby question\n",
    "result3 = Choice.objects.values('question').annotate(Sum(\"vote\"), Avg('vote'), Max('Choice_text'))  # 문자열 min: a, max: z\n",
    "for d in result3:\n",
    "    print(d)"
   ]
  },
  {
   "cell_type": "code",
   "execution_count": 53,
   "id": "3f7c14a9",
   "metadata": {},
   "outputs": [
    {
     "name": "stdout",
     "output_type": "stream",
     "text": [
      "{'question': 2, 'vote__sum': 28, 'vote__avg': 7.0, 'Choice_text__max': '판다'}\n",
      "{'question': 3, 'vote__sum': 32, 'vote__avg': 8.0, 'Choice_text__max': '이탈리아'}\n"
     ]
    }
   ],
   "source": [
    "# having절 처리 함수는 없다.\n",
    "# select sum(vote),... from choice groupby question having sum(vote)>20\n",
    "for d in result3:\n",
    "    if d['vote__sum'] > 20:  # having절 조건\n",
    "        print(d)"
   ]
  },
  {
   "cell_type": "markdown",
   "id": "1bd33920",
   "metadata": {},
   "source": [
    "## 테이블간의 관계\n",
    "\n",
    "### JOIN 을 이용한 조회\n",
    "\n",
    "#### 자식테이블에서 부모테이블값을 조회\n",
    "\n",
    "- Question: 부모\n",
    "- Choice: 자식"
   ]
  },
  {
   "cell_type": "code",
   "execution_count": 57,
   "id": "6c6b5fe0",
   "metadata": {},
   "outputs": [
    {
     "data": {
      "text/plain": [
       "('검정색', 0)"
      ]
     },
     "execution_count": 57,
     "metadata": {},
     "output_type": "execute_result"
    }
   ],
   "source": [
    "c = Choice.objects.get(pk=1)\n",
    "type(c), c\n",
    "c.Choice_text, c.vote"
   ]
  },
  {
   "cell_type": "code",
   "execution_count": 56,
   "id": "d23c1da0",
   "metadata": {},
   "outputs": [
    {
     "data": {
      "text/plain": [
       "(poll.models.Question,\n",
       " 1,\n",
       " '좋아하는 색깔은 무엇입니까?',\n",
       " datetime.datetime(2021, 10, 5, 8, 17, 35, 161348, tzinfo=<UTC>))"
      ]
     },
     "execution_count": 56,
     "metadata": {},
     "output_type": "execute_result"
    }
   ],
   "source": [
    "# pk가 1인 보기의 질문?\n",
    "q = c.question\n",
    "type(q), q.pk, q.question_text, q.pub_date"
   ]
  },
  {
   "cell_type": "code",
   "execution_count": 63,
   "id": "3833b026",
   "metadata": {},
   "outputs": [
    {
     "name": "stdout",
     "output_type": "stream",
     "text": [
      "빨간색 0 좋아하는 색깔은 무엇입니까?\n"
     ]
    }
   ],
   "source": [
    "# pk가 2인 choice(보기)의 보기내용, vote, 질문\n",
    "try:\n",
    "    id = 2\n",
    "    result_choice = Choice.objects.get(pk=id)\n",
    "    print(result_choice.Choice_text, result_choice.vote, result_choice.question.question_text)\n",
    "#     result_choice.question: Question 객체\n",
    "except:\n",
    "    print(f\"{id}는 없는 보기입니다.\")"
   ]
  },
  {
   "cell_type": "code",
   "execution_count": 64,
   "id": "f403c94e",
   "metadata": {},
   "outputs": [
    {
     "name": "stdout",
     "output_type": "stream",
     "text": [
      "2\t빨간색\t0\t좋아하는 색깔은 무엇입니까?\n",
      "4\t뱀\t0\t싫어하는 동물은 무엇입니까?\n",
      "5\t쥐\t3\t싫어하는 동물은 무엇입니까?\n"
     ]
    }
   ],
   "source": [
    "# pk 2 ~ 5 인 보기의 text, vote 질문\n",
    "result = Choice.objects.filter(pk__range=[2,5])\n",
    "for choice in result:\n",
    "    print(choice.pk, choice.Choice_text, choice.vote, choice.question.question_text, sep='\\t')"
   ]
  },
  {
   "cell_type": "markdown",
   "id": "acd91010",
   "metadata": {},
   "source": [
    "### 부모테이블에서 자식테이블값 조회"
   ]
  },
  {
   "cell_type": "code",
   "execution_count": 65,
   "id": "7e21bc1a",
   "metadata": {},
   "outputs": [
    {
     "name": "stdout",
     "output_type": "stream",
     "text": [
      "<class 'poll.models.Question'> 좋아하는 색깔은 무엇입니까?\n",
      "1 좋아하는 색깔은 무엇입니까? 2021-10-05 08:17:35.161348+00:00\n"
     ]
    }
   ],
   "source": [
    "q = Question.objects.get(pk=1)\n",
    "print(type(q), q)\n",
    "print(q.pk, q.question_text, q.pub_date)"
   ]
  },
  {
   "cell_type": "code",
   "execution_count": 67,
   "id": "d4cd24d4",
   "metadata": {},
   "outputs": [
    {
     "data": {
      "text/plain": [
       "django.db.models.query.QuerySet"
      ]
     },
     "execution_count": 67,
     "metadata": {},
     "output_type": "execute_result"
    }
   ],
   "source": [
    "# 조회한 Question(부모)의 Choice(자식)들 조회\n",
    "c_qs = q.choice_set.all()\n",
    "type(c_qs)"
   ]
  },
  {
   "cell_type": "code",
   "execution_count": 68,
   "id": "a5ccd0d4",
   "metadata": {},
   "outputs": [
    {
     "name": "stdout",
     "output_type": "stream",
     "text": [
      "1\t검정색\t0\n",
      "2\t빨간색\t0\n",
      "8\t보라색\t2\n",
      "9\t민트색\t14\n"
     ]
    }
   ],
   "source": [
    "for c in c_qs:\n",
    "    print(c.pk, c.Choice_text, c.vote, sep='\\t')"
   ]
  },
  {
   "cell_type": "code",
   "execution_count": 69,
   "id": "6883aecb",
   "metadata": {},
   "outputs": [
    {
     "name": "stdout",
     "output_type": "stream",
     "text": [
      "1 좋아하는 색깔은 무엇입니까?\n",
      "\t 1 검정색 0\n",
      "\t 2 빨간색 0\n",
      "\t 8 보라색 2\n",
      "\t 9 민트색 14\n",
      "2 좋아하는 동물은 무엇입니까?\n",
      "\t 10 강아지 13\n",
      "\t 11 고양이 6\n",
      "\t 12 원숭이 3\n",
      "\t 13 판다 6\n",
      "3 가고 싶은 나라를 선택하세요.\n",
      "\t 14 독일 3\n",
      "\t 15 영국 3\n",
      "\t 16 스페인 22\n",
      "\t 17 이탈리아 4\n",
      "4 싫어하는 동물은 무엇입니까?\n",
      "\t 4 뱀 0\n",
      "\t 5 쥐 3\n",
      "\t 6 고라니 8\n",
      "\t 7 악어 6\n"
     ]
    }
   ],
   "source": [
    "# pk가 1~4인 질문의 질문, 보기의 id, 보기내용 출력\n",
    "result = Question.objects.filter(pk__range=[1,4])\n",
    "for q in result:\n",
    "    print(q.pk, q.question_text)\n",
    "    choice_qs = q.choice_set.all()\n",
    "    for choice in choice_qs:\n",
    "        print(\"\\t\", choice.pk, choice.Choice_text, choice.vote)"
   ]
  },
  {
   "cell_type": "markdown",
   "id": "b2016026",
   "metadata": {},
   "source": [
    "# insert/update/delete\n",
    "- insert/update\n",
    "    - 모델객체.save()\n",
    "    - 모델객체가 insert/update할 데이터를 가지고 있다.\n",
    "- delete\n",
    "    - 모델객체.delete()\n",
    "    - 모델객체가 삭제할 데이터의 pk를 가지고 있다."
   ]
  },
  {
   "cell_type": "code",
   "execution_count": 70,
   "id": "45948836",
   "metadata": {},
   "outputs": [
    {
     "name": "stdout",
     "output_type": "stream",
     "text": [
      "1\t좋아하는 색깔은 무엇입니까?\t2021-10-05 08:17:35.161348+00:00\n",
      "2\t좋아하는 동물은 무엇입니까?\t2021-10-05 08:17:48.995562+00:00\n",
      "3\t가고 싶은 나라를 선택하세요.\t2021-10-05 08:17:59.136089+00:00\n",
      "4\t싫어하는 동물은 무엇입니까?\t2021-10-05 08:18:11.234816+00:00\n"
     ]
    }
   ],
   "source": [
    "def get_question_list():\n",
    "    qs = Question.objects.all()\n",
    "    for q in qs:\n",
    "        print(q.pk, q.question_text, q.pub_date, sep='\\t')\n",
    "        \n",
    "get_question_list()"
   ]
  },
  {
   "cell_type": "code",
   "execution_count": 73,
   "id": "97eb39dd",
   "metadata": {},
   "outputs": [
    {
     "name": "stdout",
     "output_type": "stream",
     "text": [
      "None 새로운 질문 2021-10-06 16:07:20.152474\n"
     ]
    }
   ],
   "source": [
    "from datetime import datetime\n",
    "# insert\n",
    "# insert할 데이터를 가진 Model 객체를 생성. 객체.save()\n",
    "new_q = Question(question_text=\"새로운 질문\", pub_date=datetime.now())  # pk(id)는 자동증가이므로 넣지 않음.\n",
    "print(new_q.pk, new_q.question_text, new_q.pub_date)\n",
    "new_q.save()"
   ]
  },
  {
   "cell_type": "code",
   "execution_count": 74,
   "id": "3cc23604",
   "metadata": {},
   "outputs": [
    {
     "name": "stdout",
     "output_type": "stream",
     "text": [
      "1\t좋아하는 색깔은 무엇입니까?\t2021-10-05 08:17:35.161348+00:00\n",
      "2\t좋아하는 동물은 무엇입니까?\t2021-10-05 08:17:48.995562+00:00\n",
      "3\t가고 싶은 나라를 선택하세요.\t2021-10-05 08:17:59.136089+00:00\n",
      "4\t싫어하는 동물은 무엇입니까?\t2021-10-05 08:18:11.234816+00:00\n",
      "6\t새로운 질문\t2021-10-06 07:07:20.158454+00:00\n"
     ]
    }
   ],
   "source": [
    "get_question_list()"
   ]
  },
  {
   "cell_type": "code",
   "execution_count": 75,
   "id": "f4e406e4",
   "metadata": {},
   "outputs": [
    {
     "name": "stderr",
     "output_type": "stream",
     "text": [
      "C:\\Users\\Playdata\\Anaconda3\\envs\\django\\lib\\site-packages\\django\\db\\models\\fields\\__init__.py:1416: RuntimeWarning: DateTimeField Question.pub_date received a naive datetime (2021-10-06 16:13:50.967209) while time zone support is active.\n",
      "  warnings.warn(\"DateTimeField %s received a naive datetime (%s)\"\n"
     ]
    }
   ],
   "source": [
    "# update\n",
    "# update할 데이터를 가진 Model 객체를 생성. 객체.save()\n",
    "# pk는 테이블에 있는 값을 가지고 있어야 한다.변경되지 않을 값은 원래값을 그대로 가지고 있어야 한다.\n",
    "update_q = Question(pk=9, question_text=\"새로운 질문\", pub_date=datetime.now())\n",
    "# id가 9인 질문의 pub_date값을 현재시간으로 update\n",
    "# update question set pub_date=sysdate where id=9\n",
    "update_q.save()"
   ]
  },
  {
   "cell_type": "code",
   "execution_count": 76,
   "id": "4128ac32",
   "metadata": {},
   "outputs": [
    {
     "name": "stdout",
     "output_type": "stream",
     "text": [
      "1\t좋아하는 색깔은 무엇입니까?\t2021-10-05 08:17:35.161348+00:00\n",
      "2\t좋아하는 동물은 무엇입니까?\t2021-10-05 08:17:48.995562+00:00\n",
      "3\t가고 싶은 나라를 선택하세요.\t2021-10-05 08:17:59.136089+00:00\n",
      "4\t싫어하는 동물은 무엇입니까?\t2021-10-05 08:18:11.234816+00:00\n",
      "6\t새로운 질문\t2021-10-06 07:07:20.158454+00:00\n",
      "9\t새로운 질문\t2021-10-06 07:13:51.420704+00:00\n"
     ]
    }
   ],
   "source": [
    "get_question_list()"
   ]
  },
  {
   "cell_type": "code",
   "execution_count": 77,
   "id": "48eb5845",
   "metadata": {},
   "outputs": [],
   "source": [
    "q = Question.objects.get(pk=9)\n",
    "q.question_text = '좋아하는 꽃은 무엇입니까?'\n",
    "# q.pk, q.question_text, q.pub_date\n",
    "q.save()"
   ]
  },
  {
   "cell_type": "code",
   "execution_count": 78,
   "id": "a1b427ca",
   "metadata": {},
   "outputs": [
    {
     "name": "stdout",
     "output_type": "stream",
     "text": [
      "1\t좋아하는 색깔은 무엇입니까?\t2021-10-05 08:17:35.161348+00:00\n",
      "2\t좋아하는 동물은 무엇입니까?\t2021-10-05 08:17:48.995562+00:00\n",
      "3\t가고 싶은 나라를 선택하세요.\t2021-10-05 08:17:59.136089+00:00\n",
      "4\t싫어하는 동물은 무엇입니까?\t2021-10-05 08:18:11.234816+00:00\n",
      "6\t새로운 질문\t2021-10-06 07:07:20.158454+00:00\n",
      "9\t좋아하는 꽃은 무엇입니까?\t2021-10-06 07:13:51.420704+00:00\n"
     ]
    }
   ],
   "source": [
    "get_question_list()"
   ]
  },
  {
   "cell_type": "code",
   "execution_count": 80,
   "id": "acab607b",
   "metadata": {},
   "outputs": [
    {
     "name": "stdout",
     "output_type": "stream",
     "text": [
      "9  None\n"
     ]
    },
    {
     "data": {
      "text/plain": [
       "(1, {'poll.Question': 1})"
      ]
     },
     "execution_count": 80,
     "metadata": {},
     "output_type": "execute_result"
    }
   ],
   "source": [
    "# delete\n",
    "# 삭제할 pk값을 가진 model을 생성. model.delete()\n",
    "delete_q = Question(pk=9)\n",
    "print(delete_q.pk, delete_q.question_text, delete_q.pub_date)\n",
    "delete_q.delete()"
   ]
  },
  {
   "cell_type": "code",
   "execution_count": 81,
   "id": "010fa04e",
   "metadata": {},
   "outputs": [
    {
     "name": "stdout",
     "output_type": "stream",
     "text": [
      "1\t좋아하는 색깔은 무엇입니까?\t2021-10-05 08:17:35.161348+00:00\n",
      "2\t좋아하는 동물은 무엇입니까?\t2021-10-05 08:17:48.995562+00:00\n",
      "3\t가고 싶은 나라를 선택하세요.\t2021-10-05 08:17:59.136089+00:00\n",
      "4\t싫어하는 동물은 무엇입니까?\t2021-10-05 08:18:11.234816+00:00\n",
      "6\t새로운 질문\t2021-10-06 07:07:20.158454+00:00\n"
     ]
    }
   ],
   "source": [
    "get_question_list()"
   ]
  },
  {
   "cell_type": "code",
   "execution_count": 83,
   "id": "b7465664",
   "metadata": {},
   "outputs": [
    {
     "data": {
      "text/plain": [
       "(1,\n",
       " '좋아하는 색깔은 무엇입니까?',\n",
       " datetime.datetime(2021, 10, 5, 8, 17, 35, 161348, tzinfo=<UTC>))"
      ]
     },
     "execution_count": 83,
     "metadata": {},
     "output_type": "execute_result"
    }
   ],
   "source": [
    "delete_q2 = Question.objects.get(pk=1)\n",
    "delete_q2.pk, delete_q2.question_text, delete_q2.pub_date"
   ]
  },
  {
   "cell_type": "code",
   "execution_count": 84,
   "id": "29cf4905",
   "metadata": {},
   "outputs": [
    {
     "data": {
      "text/plain": [
       "(5, {'poll.Choice': 4, 'poll.Question': 1})"
      ]
     },
     "execution_count": 84,
     "metadata": {},
     "output_type": "execute_result"
    }
   ],
   "source": [
    "delete_q2.delete()\n",
    "# (5: 총 delete된 데이터 수, {'poll_choice':Choice 테이블에서 삭제된 데이터수 \"poll.Question\":Question 테이블에서 삭제된 데이터 수})"
   ]
  },
  {
   "cell_type": "code",
   "execution_count": 85,
   "id": "c8db00af",
   "metadata": {},
   "outputs": [
    {
     "name": "stdout",
     "output_type": "stream",
     "text": [
      "2\t좋아하는 동물은 무엇입니까?\t2021-10-05 08:17:48.995562+00:00\n",
      "3\t가고 싶은 나라를 선택하세요.\t2021-10-05 08:17:59.136089+00:00\n",
      "4\t싫어하는 동물은 무엇입니까?\t2021-10-05 08:18:11.234816+00:00\n",
      "6\t새로운 질문\t2021-10-06 07:07:20.158454+00:00\n"
     ]
    }
   ],
   "source": [
    "get_question_list()"
   ]
  },
  {
   "cell_type": "code",
   "execution_count": 86,
   "id": "49de996d",
   "metadata": {},
   "outputs": [
    {
     "data": {
      "text/plain": [
       "<QuerySet []>"
      ]
     },
     "execution_count": 86,
     "metadata": {},
     "output_type": "execute_result"
    }
   ],
   "source": [
    "Choice.objects.filter(question=1)"
   ]
  },
  {
   "cell_type": "markdown",
   "id": "b2556b44",
   "metadata": {},
   "source": [
    "# 직접 SQL문을 작성해서 실행\n",
    "\n",
    "- 모델.objects.raw(\"select문\")\n",
    "    - select 문만 가능."
   ]
  },
  {
   "cell_type": "code",
   "execution_count": 88,
   "id": "9c893736",
   "metadata": {},
   "outputs": [
    {
     "name": "stdout",
     "output_type": "stream",
     "text": [
      "4 뱀 0\n",
      "5 쥐 3\n",
      "6 고라니 8\n",
      "7 악어 6\n",
      "10 강아지 13\n",
      "11 고양이 6\n",
      "12 원숭이 3\n",
      "13 판다 6\n",
      "14 독일 3\n",
      "15 영국 3\n",
      "16 스페인 22\n",
      "17 이탈리아 4\n"
     ]
    }
   ],
   "source": [
    "sql = 'SELECT * FROM poll_choice'\n",
    "rq = Choice.objects.raw(sql)  # select문을 실행하고 그 결과를 Choice객체에 담아준다.\n",
    "for d in rq:\n",
    "    print(d.id, d.Choice_text, d.vote)"
   ]
  },
  {
   "cell_type": "code",
   "execution_count": null,
   "id": "ed73214d",
   "metadata": {},
   "outputs": [],
   "source": []
  },
  {
   "cell_type": "code",
   "execution_count": null,
   "id": "6d5b65b9",
   "metadata": {},
   "outputs": [],
   "source": []
  },
  {
   "cell_type": "code",
   "execution_count": null,
   "id": "845d2d5a",
   "metadata": {},
   "outputs": [],
   "source": []
  },
  {
   "cell_type": "code",
   "execution_count": null,
   "id": "1d06c228",
   "metadata": {},
   "outputs": [],
   "source": []
  },
  {
   "cell_type": "code",
   "execution_count": null,
   "id": "183ed46a",
   "metadata": {},
   "outputs": [],
   "source": []
  },
  {
   "cell_type": "code",
   "execution_count": null,
   "id": "0847ee3d",
   "metadata": {},
   "outputs": [],
   "source": []
  },
  {
   "cell_type": "code",
   "execution_count": null,
   "id": "383d6405",
   "metadata": {},
   "outputs": [],
   "source": []
  },
  {
   "cell_type": "code",
   "execution_count": null,
   "id": "8b967644",
   "metadata": {},
   "outputs": [],
   "source": []
  }
 ],
 "metadata": {
  "kernelspec": {
   "display_name": "Python 3 (ipykernel)",
   "language": "python",
   "name": "python3"
  },
  "language_info": {
   "codemirror_mode": {
    "name": "ipython",
    "version": 3
   },
   "file_extension": ".py",
   "mimetype": "text/x-python",
   "name": "python",
   "nbconvert_exporter": "python",
   "pygments_lexer": "ipython3",
   "version": "3.8.11"
  }
 },
 "nbformat": 4,
 "nbformat_minor": 5
}
