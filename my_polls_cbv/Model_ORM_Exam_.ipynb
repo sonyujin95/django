{
 "cells": [
  {
   "cell_type": "code",
   "execution_count": 1,
   "id": "60c95974",
   "metadata": {},
   "outputs": [],
   "source": [
    "# django shell 기능을 jupyter notebook을 이용해 작업\n",
    "#  - django 프로젝트 ROOT 디렉토리에서 주피터노트북을 실행\n",
    "#  - jupyter notebook에서 django shell을 사용하기 위해서 환경설정\n",
    "import os\n",
    "os.environ['DJANGO_SETTINGS_MODULE'] = 'config.settings'  # root/config/settings.py 경로 지정.\n",
    "os.environ['DJANGO_ALLOW_ASYNC_UNSAFE'] = 'true'\n",
    "\n",
    "import django\n",
    "django.setup()"
   ]
  },
  {
   "cell_type": "code",
   "execution_count": 2,
   "id": "ee85ec47",
   "metadata": {},
   "outputs": [],
   "source": [
    "from poll.models import Question, Choice"
   ]
  },
  {
   "cell_type": "code",
   "execution_count": 3,
   "id": "bc74d46c",
   "metadata": {},
   "outputs": [
    {
     "name": "stdout",
     "output_type": "stream",
     "text": [
      "<class 'django.db.models.manager.Manager'>\n"
     ]
    }
   ],
   "source": [
    "mm = Question.objects\n",
    "print(type(mm))"
   ]
  },
  {
   "cell_type": "code",
   "execution_count": 4,
   "id": "2e2ec5d5",
   "metadata": {
    "scrolled": true
   },
   "outputs": [
    {
     "data": {
      "text/plain": [
       "<QuerySet [<Question: 좋아하는 색깔은 무엇입니까?>, <Question: 좋아하는 동물은 무엇입니까?>, <Question: 가고 싶은 나라를 선택하세요.>, <Question: 싫어하는 동물은 무엇입니까?>, <Question: 어떤 프로그램 언어를 사용하십니까?>, <Question: 선호하는 카페 브랜드는 어디인가요?>, <Question: 선호하는 음식종류는 무엇입니까?>]>"
      ]
     },
     "execution_count": 4,
     "metadata": {},
     "output_type": "execute_result"
    }
   ],
   "source": [
    "mm.all()"
   ]
  },
  {
   "cell_type": "markdown",
   "id": "056ca12a",
   "metadata": {},
   "source": [
    "모델클래스.objects.SQL메소드()\\[.SQL메소드()...\\]"
   ]
  },
  {
   "cell_type": "markdown",
   "id": "c0c26bbb",
   "metadata": {},
   "source": [
    "# 조회(select)\n",
    "\n",
    "- ### all(): 전체조회"
   ]
  },
  {
   "cell_type": "code",
   "execution_count": 4,
   "id": "b47502aa",
   "metadata": {},
   "outputs": [
    {
     "name": "stdout",
     "output_type": "stream",
     "text": [
      "<class 'django.db.models.query.QuerySet'>\n",
      "SELECT \"poll_question\".\"id\", \"poll_question\".\"question_text\", \"poll_question\".\"pub_date\" FROM \"poll_question\"\n"
     ]
    }
   ],
   "source": [
    "qs = Question.objects.all() #select * from question \n",
    "#조회결과는 QuerySet 객체 반환\n",
    "# QuestSet - 조회결과를 조회, 추가 SQL문을 실행\n",
    "print(type(qs))\n",
    "print(qs.query)  #실행된 sql문을 조회"
   ]
  },
  {
   "cell_type": "code",
   "execution_count": 5,
   "id": "1391264c",
   "metadata": {},
   "outputs": [
    {
     "data": {
      "text/plain": [
       "<QuerySet [<Question: 좋아하는 색깔은 무엇입니까?>, <Question: 좋아하는 동물은 무엇입니까?>, <Question: 가고 싶은 나라를 선택하세요.>, <Question: 싫어하는 동물은 무엇입니까?>, <Question: 어떤 프로그램 언어를 사용하십니까?>, <Question: 선호하는 카페 브랜드는 어디인가요?>, <Question: 선호하는 음식종류는 무엇입니까?>]>"
      ]
     },
     "execution_count": 5,
     "metadata": {},
     "output_type": "execute_result"
    }
   ],
   "source": [
    "qs #iterable"
   ]
  },
  {
   "cell_type": "code",
   "execution_count": 6,
   "id": "9c153724",
   "metadata": {},
   "outputs": [
    {
     "name": "stdout",
     "output_type": "stream",
     "text": [
      "<class 'poll.models.Question'> 좋아하는 색깔은 무엇입니까? -- 좋아하는 색깔은 무엇입니까? 2021-10-05 08:17:22.862005+00:00 1 1\n",
      "<class 'poll.models.Question'> 좋아하는 동물은 무엇입니까? -- 좋아하는 동물은 무엇입니까? 2021-10-05 08:17:44.509702+00:00 2 2\n",
      "<class 'poll.models.Question'> 가고 싶은 나라를 선택하세요. -- 가고 싶은 나라를 선택하세요. 2021-10-05 08:17:54.306889+00:00 3 3\n",
      "<class 'poll.models.Question'> 싫어하는 동물은 무엇입니까? -- 싫어하는 동물은 무엇입니까? 2021-10-05 08:18:04.281262+00:00 4 4\n",
      "<class 'poll.models.Question'> 어떤 프로그램 언어를 사용하십니까? -- 어떤 프로그램 언어를 사용하십니까? 2021-10-05 08:42:10.877559+00:00 6 6\n",
      "<class 'poll.models.Question'> 선호하는 카페 브랜드는 어디인가요? -- 선호하는 카페 브랜드는 어디인가요? 2021-10-05 08:42:22.745516+00:00 7 7\n",
      "<class 'poll.models.Question'> 선호하는 음식종류는 무엇입니까? -- 선호하는 음식종류는 무엇입니까? 2021-10-05 08:47:03.943094+00:00 8 8\n"
     ]
    }
   ],
   "source": [
    "for m in qs:\n",
    "    print(type(m), m, \"--\", m.question_text, m.pub_date, m.id, m.pk) #model.pk : primary 컬럼의 값을 조회"
   ]
  },
  {
   "cell_type": "code",
   "execution_count": 7,
   "id": "5ddcb42a",
   "metadata": {},
   "outputs": [],
   "source": [
    "# QuerySet: iterable - 반복문으로 조회, indexing, slicing"
   ]
  },
  {
   "cell_type": "code",
   "execution_count": 8,
   "id": "2d4e7174",
   "metadata": {},
   "outputs": [
    {
     "name": "stdout",
     "output_type": "stream",
     "text": [
      "id: 3 ,등록일시 2021-10-05 08:17:54.306889+00:00 ,질문: 가고 싶은 나라를 선택하세요.\n"
     ]
    }
   ],
   "source": [
    "qs[2]\n",
    "print(\"id:\", qs[2].pk, \",등록일시\", qs[2].pub_date, \",질문:\", qs[2].question_text)"
   ]
  },
  {
   "cell_type": "code",
   "execution_count": 9,
   "id": "38ee204e",
   "metadata": {},
   "outputs": [],
   "source": [
    "# 음수  indexing은 지원안한다.\n",
    "# qs[-1]"
   ]
  },
  {
   "cell_type": "code",
   "execution_count": 10,
   "id": "7f6b5d7d",
   "metadata": {},
   "outputs": [
    {
     "data": {
      "text/plain": [
       "[<Question: 가고 싶은 나라를 선택하세요.>,\n",
       " <Question: 싫어하는 동물은 무엇입니까?>,\n",
       " <Question: 어떤 프로그램 언어를 사용하십니까?>]"
      ]
     },
     "execution_count": 10,
     "metadata": {},
     "output_type": "execute_result"
    }
   ],
   "source": [
    "qs[2:5]"
   ]
  },
  {
   "cell_type": "code",
   "execution_count": 11,
   "id": "0175ce42",
   "metadata": {},
   "outputs": [
    {
     "data": {
      "text/plain": [
       "[<Question: 좋아하는 색깔은 무엇입니까?>,\n",
       " <Question: 가고 싶은 나라를 선택하세요.>,\n",
       " <Question: 어떤 프로그램 언어를 사용하십니까?>,\n",
       " <Question: 선호하는 음식종류는 무엇입니까?>]"
      ]
     },
     "execution_count": 11,
     "metadata": {},
     "output_type": "execute_result"
    }
   ],
   "source": [
    "qs[::2]"
   ]
  },
  {
   "cell_type": "code",
   "execution_count": 12,
   "id": "b9d43b16",
   "metadata": {},
   "outputs": [
    {
     "data": {
      "text/plain": [
       "<Question: 좋아하는 색깔은 무엇입니까?>"
      ]
     },
     "execution_count": 12,
     "metadata": {},
     "output_type": "execute_result"
    }
   ],
   "source": [
    "qs.first()# 조회결과중 첫번째 것 반환"
   ]
  },
  {
   "cell_type": "code",
   "execution_count": 13,
   "id": "addefd8f",
   "metadata": {},
   "outputs": [
    {
     "data": {
      "text/plain": [
       "<Question: 선호하는 음식종류는 무엇입니까?>"
      ]
     },
     "execution_count": 13,
     "metadata": {},
     "output_type": "execute_result"
    }
   ],
   "source": [
    "qs.last()# 조회결과중 마지막 것 반환"
   ]
  },
  {
   "cell_type": "markdown",
   "id": "4fb6e119",
   "metadata": {},
   "source": [
    "## where 절이용한 조회\n",
    "조회조건이 있는 조회\n",
    "- filter(조회조건): 조건을 만족하는 행이 0개 이상일 경우\n",
    "- exclude(조회조건): filter()반대. 조건을 만족하지 않는 0개이상의 행들을 조회\n",
    "- get(조회조건): 조회조건을 만족하는 1개 행 조회. PK 로 조회할 때 사용. 조회결과가 0개이거나 2개 이상인 경우 Exception 발생.\n",
    "- filter/exclude() 반환타입: QuerySet\n",
    "- get() 반환타입: Model객체 반환"
   ]
  },
  {
   "cell_type": "code",
   "execution_count": 14,
   "id": "c353c406",
   "metadata": {},
   "outputs": [
    {
     "data": {
      "text/plain": [
       "(2,\n",
       " '좋아하는 동물은 무엇입니까?',\n",
       " datetime.datetime(2021, 10, 5, 8, 17, 44, 509702, tzinfo=<UTC>))"
      ]
     },
     "execution_count": 14,
     "metadata": {},
     "output_type": "execute_result"
    }
   ],
   "source": [
    "# pk(id) = 2\n",
    "qs = Question.objects.filter(id=2)\n",
    "r = qs.first()\n",
    "r.id, r.question_text, r.pub_date\n",
    "# qs.id"
   ]
  },
  {
   "cell_type": "code",
   "execution_count": 15,
   "id": "778eeddd",
   "metadata": {},
   "outputs": [
    {
     "name": "stdout",
     "output_type": "stream",
     "text": [
      "<class 'poll.models.Question'>\n"
     ]
    },
    {
     "data": {
      "text/plain": [
       "(2, '좋아하는 동물은 무엇입니까?')"
      ]
     },
     "execution_count": 15,
     "metadata": {},
     "output_type": "execute_result"
    }
   ],
   "source": [
    "question = Question.objects.get(pk=2)\n",
    "print(type(question))\n",
    "question.pk, question.question_text"
   ]
  },
  {
   "cell_type": "code",
   "execution_count": 16,
   "id": "bd13c46b",
   "metadata": {},
   "outputs": [
    {
     "name": "stdout",
     "output_type": "stream",
     "text": [
      "SELECT \"poll_question\".\"id\", \"poll_question\".\"question_text\", \"poll_question\".\"pub_date\" FROM \"poll_question\" WHERE NOT (\"poll_question\".\"id\" = 2)\n"
     ]
    },
    {
     "data": {
      "text/plain": [
       "<QuerySet [<Question: 좋아하는 색깔은 무엇입니까?>, <Question: 가고 싶은 나라를 선택하세요.>, <Question: 싫어하는 동물은 무엇입니까?>, <Question: 어떤 프로그램 언어를 사용하십니까?>, <Question: 선호하는 카페 브랜드는 어디인가요?>, <Question: 선호하는 음식종류는 무엇입니까?>]>"
      ]
     },
     "execution_count": 16,
     "metadata": {},
     "output_type": "execute_result"
    }
   ],
   "source": [
    "qs = Question.objects.exclude(pk=2)  # where pk <> 2\n",
    "print(qs.query)\n",
    "qs"
   ]
  },
  {
   "cell_type": "code",
   "execution_count": 17,
   "id": "45518886",
   "metadata": {},
   "outputs": [
    {
     "name": "stdout",
     "output_type": "stream",
     "text": [
      "id가 100인 질문은 없습니다.\n"
     ]
    }
   ],
   "source": [
    "try:\n",
    "    q = Question.objects.get(pk=100) #없는 것 조회: DoesNotExist Exception발생\n",
    "#     추가작업\n",
    "except:\n",
    "    print(\"id가 100인 질문은 없습니다.\")"
   ]
  },
  {
   "cell_type": "code",
   "execution_count": 18,
   "id": "6f4e2681",
   "metadata": {},
   "outputs": [
    {
     "data": {
      "text/plain": [
       "<QuerySet []>"
      ]
     },
     "execution_count": 18,
     "metadata": {},
     "output_type": "execute_result"
    }
   ],
   "source": [
    "Question.objects.filter(pk=100) "
   ]
  },
  {
   "cell_type": "code",
   "execution_count": 19,
   "id": "798aee7e",
   "metadata": {},
   "outputs": [
    {
     "ename": "MultipleObjectsReturned",
     "evalue": "get() returned more than one Question -- it returned 6!",
     "output_type": "error",
     "traceback": [
      "\u001b[1;31m---------------------------------------------------------------------------\u001b[0m",
      "\u001b[1;31mMultipleObjectsReturned\u001b[0m                   Traceback (most recent call last)",
      "\u001b[1;32m~\\AppData\\Local\\Temp/ipykernel_9124/3003993752.py\u001b[0m in \u001b[0;36m<module>\u001b[1;34m\u001b[0m\n\u001b[1;32m----> 1\u001b[1;33m \u001b[0mq\u001b[0m \u001b[1;33m=\u001b[0m \u001b[0mQuestion\u001b[0m\u001b[1;33m.\u001b[0m\u001b[0mobjects\u001b[0m\u001b[1;33m.\u001b[0m\u001b[0mget\u001b[0m\u001b[1;33m(\u001b[0m\u001b[0mpk__gt\u001b[0m\u001b[1;33m=\u001b[0m\u001b[1;36m1\u001b[0m\u001b[1;33m)\u001b[0m  \u001b[1;31m#where pk > 1 : 1개 이상이 조회되는 경우 get()-MultipleObjectsReturned Exception 발생\u001b[0m\u001b[1;33m\u001b[0m\u001b[1;33m\u001b[0m\u001b[0m\n\u001b[0m",
      "\u001b[1;32m~\\anaconda3\\envs\\django\\lib\\site-packages\\django\\db\\models\\manager.py\u001b[0m in \u001b[0;36mmanager_method\u001b[1;34m(self, *args, **kwargs)\u001b[0m\n\u001b[0;32m     83\u001b[0m         \u001b[1;32mdef\u001b[0m \u001b[0mcreate_method\u001b[0m\u001b[1;33m(\u001b[0m\u001b[0mname\u001b[0m\u001b[1;33m,\u001b[0m \u001b[0mmethod\u001b[0m\u001b[1;33m)\u001b[0m\u001b[1;33m:\u001b[0m\u001b[1;33m\u001b[0m\u001b[1;33m\u001b[0m\u001b[0m\n\u001b[0;32m     84\u001b[0m             \u001b[1;32mdef\u001b[0m \u001b[0mmanager_method\u001b[0m\u001b[1;33m(\u001b[0m\u001b[0mself\u001b[0m\u001b[1;33m,\u001b[0m \u001b[1;33m*\u001b[0m\u001b[0margs\u001b[0m\u001b[1;33m,\u001b[0m \u001b[1;33m**\u001b[0m\u001b[0mkwargs\u001b[0m\u001b[1;33m)\u001b[0m\u001b[1;33m:\u001b[0m\u001b[1;33m\u001b[0m\u001b[1;33m\u001b[0m\u001b[0m\n\u001b[1;32m---> 85\u001b[1;33m                 \u001b[1;32mreturn\u001b[0m \u001b[0mgetattr\u001b[0m\u001b[1;33m(\u001b[0m\u001b[0mself\u001b[0m\u001b[1;33m.\u001b[0m\u001b[0mget_queryset\u001b[0m\u001b[1;33m(\u001b[0m\u001b[1;33m)\u001b[0m\u001b[1;33m,\u001b[0m \u001b[0mname\u001b[0m\u001b[1;33m)\u001b[0m\u001b[1;33m(\u001b[0m\u001b[1;33m*\u001b[0m\u001b[0margs\u001b[0m\u001b[1;33m,\u001b[0m \u001b[1;33m**\u001b[0m\u001b[0mkwargs\u001b[0m\u001b[1;33m)\u001b[0m\u001b[1;33m\u001b[0m\u001b[1;33m\u001b[0m\u001b[0m\n\u001b[0m\u001b[0;32m     86\u001b[0m             \u001b[0mmanager_method\u001b[0m\u001b[1;33m.\u001b[0m\u001b[0m__name__\u001b[0m \u001b[1;33m=\u001b[0m \u001b[0mmethod\u001b[0m\u001b[1;33m.\u001b[0m\u001b[0m__name__\u001b[0m\u001b[1;33m\u001b[0m\u001b[1;33m\u001b[0m\u001b[0m\n\u001b[0;32m     87\u001b[0m             \u001b[0mmanager_method\u001b[0m\u001b[1;33m.\u001b[0m\u001b[0m__doc__\u001b[0m \u001b[1;33m=\u001b[0m \u001b[0mmethod\u001b[0m\u001b[1;33m.\u001b[0m\u001b[0m__doc__\u001b[0m\u001b[1;33m\u001b[0m\u001b[1;33m\u001b[0m\u001b[0m\n",
      "\u001b[1;32m~\\anaconda3\\envs\\django\\lib\\site-packages\\django\\db\\models\\query.py\u001b[0m in \u001b[0;36mget\u001b[1;34m(self, *args, **kwargs)\u001b[0m\n\u001b[0;32m    437\u001b[0m                 \u001b[0mself\u001b[0m\u001b[1;33m.\u001b[0m\u001b[0mmodel\u001b[0m\u001b[1;33m.\u001b[0m\u001b[0m_meta\u001b[0m\u001b[1;33m.\u001b[0m\u001b[0mobject_name\u001b[0m\u001b[1;33m\u001b[0m\u001b[1;33m\u001b[0m\u001b[0m\n\u001b[0;32m    438\u001b[0m             )\n\u001b[1;32m--> 439\u001b[1;33m         raise self.model.MultipleObjectsReturned(\n\u001b[0m\u001b[0;32m    440\u001b[0m             'get() returned more than one %s -- it returned %s!' % (\n\u001b[0;32m    441\u001b[0m                 \u001b[0mself\u001b[0m\u001b[1;33m.\u001b[0m\u001b[0mmodel\u001b[0m\u001b[1;33m.\u001b[0m\u001b[0m_meta\u001b[0m\u001b[1;33m.\u001b[0m\u001b[0mobject_name\u001b[0m\u001b[1;33m,\u001b[0m\u001b[1;33m\u001b[0m\u001b[1;33m\u001b[0m\u001b[0m\n",
      "\u001b[1;31mMultipleObjectsReturned\u001b[0m: get() returned more than one Question -- it returned 6!"
     ]
    }
   ],
   "source": [
    "q = Question.objects.get(pk__gt=1)  #where pk > 1 : 1개 이상이 조회되는 경우 get()-MultipleObjectsReturned Exception 발생"
   ]
  },
  {
   "cell_type": "code",
   "execution_count": null,
   "id": "71a084b3",
   "metadata": {},
   "outputs": [],
   "source": [
    "# 조회조건\n",
    "qs = Question.objects.filter(pk__lt=3) # pk < 3\n",
    "qs = Question.objects.filter(pk__lte=3)# pk <= 3\n",
    "qs = Question.objects.filter(pk__gt=3) # pk > 3\n",
    "qs = Question.objects.filter(pk__gte=3)# pk >= 3\n",
    "qs = Question.objects.filter(pk__in=[1,4,6]) # pk in (1, 4, 6)\n",
    "qs = Question.objects.filter(pk__range=[2,5]) # pk between 2 and 5\n",
    "qs = Question.objects.filter(question_text__startswith=\"좋아하는\") #question_text like '좋아하는%'  좋아하는 으로 시작하는 \n",
    "qs = Question.objects.filter(question_text__endswith='무엇입니까?') #question_text like '%무엇입니까?' 무엇입니까로 끝나는\n",
    "qs = Question.objects.filter(question_text__contains='동물')  #question_text like '%동물%' 동물이 들어간\n",
    "print(qs.query)\n",
    "for m in qs:\n",
    "    print(m.pk, m.question_text)"
   ]
  },
  {
   "cell_type": "markdown",
   "id": "f33ce876",
   "metadata": {},
   "source": [
    "### AND 로 조건을 묶는 경우\n",
    "- 조회함수들의 매개변수에 조건들을 나열해 준다."
   ]
  },
  {
   "cell_type": "code",
   "execution_count": 20,
   "id": "3a06c432",
   "metadata": {},
   "outputs": [
    {
     "name": "stdout",
     "output_type": "stream",
     "text": [
      "SELECT \"poll_question\".\"id\", \"poll_question\".\"question_text\", \"poll_question\".\"pub_date\" FROM \"poll_question\" WHERE (\"poll_question\".\"id\" = 2 AND \"poll_question\".\"question_text\" LIKE 좋아하는% ESCAPE '\\')\n",
      "2 좋아하는 동물은 무엇입니까?\n"
     ]
    }
   ],
   "source": [
    "# pk=2 and q_text가 \"좋아하는으로 시작\" \n",
    "qs = Question.objects.filter(pk=2, question_text__startswith='좋아하는')\n",
    "\n",
    "print(qs.query)\n",
    "for m in qs:\n",
    "    print(m.pk, m.question_text)"
   ]
  },
  {
   "cell_type": "markdown",
   "id": "3652bd2a",
   "metadata": {},
   "source": [
    "## OR 로 조건들을 묶는 경우\n",
    "- 개별 조건을 Q()에 넣고 `|` 사용"
   ]
  },
  {
   "cell_type": "code",
   "execution_count": 21,
   "id": "8cc56ff2",
   "metadata": {},
   "outputs": [
    {
     "name": "stdout",
     "output_type": "stream",
     "text": [
      "SELECT \"poll_question\".\"id\", \"poll_question\".\"question_text\", \"poll_question\".\"pub_date\" FROM \"poll_question\" WHERE (\"poll_question\".\"id\" < 3 OR NOT (\"poll_question\".\"question_text\" LIKE %어디인가요? ESCAPE '\\'))\n",
      "1 좋아하는 색깔은 무엇입니까?\n",
      "2 좋아하는 동물은 무엇입니까?\n",
      "3 가고 싶은 나라를 선택하세요.\n",
      "4 싫어하는 동물은 무엇입니까?\n",
      "6 어떤 프로그램 언어를 사용하십니까?\n",
      "8 선호하는 음식종류는 무엇입니까?\n"
     ]
    }
   ],
   "source": [
    "# pk<3 or question_text like '%어디인가요?'\n",
    "from django.db.models import Q\n",
    "\n",
    "# qs = Question.objects.filter(Q(pk__lt=3) | Q(question_text__endswith='어디인가요?'))\n",
    "qs = Question.objects.filter(Q(pk__lt=3) | ~Q(question_text__endswith='어디인가요?'))  #~ : not\n",
    "\n",
    "print(qs.query)\n",
    "for m in qs:\n",
    "    print(m.pk, m.question_text)"
   ]
  },
  {
   "cell_type": "markdown",
   "id": "bc53e7a5",
   "metadata": {},
   "source": [
    "## 컬럼선택, 정렬\n",
    "- values(조회할컬럼변수나열): 컬럼 선택\n",
    "    - 조회한 데이터를 dictionary에 넣어서 반환. QuerySet[{},{}]\n",
    "- order_by(기준컬럼): 정렬-ASC(기본)  \"-컬럼명\": DESC"
   ]
  },
  {
   "cell_type": "code",
   "execution_count": 22,
   "id": "91ba9b2b",
   "metadata": {},
   "outputs": [
    {
     "data": {
      "text/plain": [
       "<QuerySet [<Choice: 검정색>, <Choice: 빨강색>, <Choice: 파랑색>, <Choice: 초록색>, <Choice: 녹색>, <Choice: 호랑이>, <Choice: 사자>, <Choice: 고양이>, <Choice: 개>, <Choice: 코알라>, <Choice: 한국>, <Choice: 미국>, <Choice: 영국>, <Choice: 일본>, <Choice: 중국>, <Choice: 태국>, <Choice: 호랑이>, <Choice: 사자>, <Choice: 고양이>, <Choice: 개>, '...(remaining elements truncated)...']>"
      ]
     },
     "execution_count": 22,
     "metadata": {},
     "output_type": "execute_result"
    }
   ],
   "source": [
    "Choice.objects.all()"
   ]
  },
  {
   "cell_type": "code",
   "execution_count": 23,
   "id": "2a568a5d",
   "metadata": {},
   "outputs": [
    {
     "name": "stdout",
     "output_type": "stream",
     "text": [
      "SELECT \"poll_choice\".\"choice_text\", \"poll_choice\".\"vote\" FROM \"poll_choice\"\n",
      "<QuerySet [{'choice_text': '검정색', 'vote': 23}, {'choice_text': '빨강색', 'vote': 0}, {'choice_text': '파랑색', 'vote': 0}, {'choice_text': '초록색', 'vote': 0}, {'choice_text': '녹색', 'vote': 2}, {'choice_text': '호랑이', 'vote': 0}, {'choice_text': '사자', 'vote': 0}, {'choice_text': '고양이', 'vote': 0}, {'choice_text': '개', 'vote': 0}, {'choice_text': '코알라', 'vote': 0}, {'choice_text': '한국', 'vote': 0}, {'choice_text': '미국', 'vote': 0}, {'choice_text': '영국', 'vote': 7}, {'choice_text': '일본', 'vote': 0}, {'choice_text': '중국', 'vote': 0}, {'choice_text': '태국', 'vote': 0}, {'choice_text': '호랑이', 'vote': 0}, {'choice_text': '사자', 'vote': 0}, {'choice_text': '고양이', 'vote': 0}, {'choice_text': '개', 'vote': 0}, '...(remaining elements truncated)...']>\n",
      "검정색\t23\n",
      "빨강색\t0\n",
      "파랑색\t0\n",
      "초록색\t0\n",
      "녹색\t2\n",
      "호랑이\t0\n",
      "사자\t0\n",
      "고양이\t0\n",
      "개\t0\n",
      "코알라\t0\n",
      "한국\t0\n",
      "미국\t0\n",
      "영국\t7\n",
      "일본\t0\n",
      "중국\t0\n",
      "태국\t0\n",
      "호랑이\t0\n",
      "사자\t0\n",
      "고양이\t0\n",
      "개\t0\n",
      "코알라\t0\n",
      "뱀\t0\n",
      "쥐\t0\n",
      "파이썬\t52\n",
      "R\t0\n",
      "자바\t13\n",
      "C\t1\n",
      "C++\t0\n",
      "스타벅스\t3\n",
      "파스쿠치\t0\n",
      "탐앤탐스\t0\n",
      "투썸플레이스\t0\n",
      "커피빈\t7\n",
      "한식\t120\n",
      "분식\t30\n",
      "양식\t15\n",
      "중식\t0\n",
      "일식\t0\n",
      "기타\t0\n",
      "기타\t0\n",
      "기타\t0\n",
      "기타\t1\n",
      "기타\t10\n",
      "기타\t0\n",
      "기타\t0\n"
     ]
    }
   ],
   "source": [
    "# qs = Choice.objects.all().values('choice_text', 'vote')  # select choice_text, vote  from choice\n",
    "qs = Choice.objects.values('choice_text', 'vote').all()\n",
    "print(qs.query)\n",
    "print(qs)\n",
    "for m in qs:\n",
    "# #     print(m.pk, m.choice_text, m.vote, m.question, type(m.question), sep='\\t')\n",
    "    print(m['choice_text'], m['vote'], sep='\\t')"
   ]
  },
  {
   "cell_type": "code",
   "execution_count": 24,
   "id": "fc438260",
   "metadata": {
    "scrolled": true
   },
   "outputs": [
    {
     "name": "stdout",
     "output_type": "stream",
     "text": [
      "SELECT \"poll_choice\".\"id\", \"poll_choice\".\"choice_text\" FROM \"poll_choice\" WHERE \"poll_choice\".\"id\" < 7 ORDER BY \"poll_choice\".\"choice_text\" DESC, \"poll_choice\".\"id\" ASC\n",
      "4 파랑색\n",
      "5 초록색\n",
      "2 빨강색\n",
      "6 녹색\n",
      "1 검정색\n"
     ]
    }
   ],
   "source": [
    "# qs = Choice.objects.values('id', 'choice_text').all().order_by('choice_text') #choice_text를 기준으로 ASC정렬\n",
    "# qs = Choice.objects.values('id', 'choice_text').all().order_by('-choice_text')  #choice_text를 기준으로 DESC정렬\n",
    "# qs = Choice.objects.values('id', 'choice_text').all().order_by('-choice_text', 'id') #choice DESC, id ASC\n",
    "qs = Choice.objects.values('id', 'choice_text').filter(pk__lt=7).order_by('-choice_text', 'id') \n",
    "print(qs.query)\n",
    "for m in qs:\n",
    "    print(m['id'], m['choice_text'])"
   ]
  },
  {
   "cell_type": "markdown",
   "id": "94b7bc7b",
   "metadata": {},
   "source": [
    "select 컬럼명 -values()\n",
    "from   테이블명 - 모델클래스명\n",
    "where  조건  - filter, exclude, get 메소드\n",
    "\n",
    "order by 정렬조건  - order_by()메소드"
   ]
  },
  {
   "cell_type": "markdown",
   "id": "9f8cda28",
   "metadata": {},
   "source": [
    "## 집계함수"
   ]
  },
  {
   "cell_type": "code",
   "execution_count": 25,
   "id": "2d047a41",
   "metadata": {},
   "outputs": [
    {
     "name": "stdout",
     "output_type": "stream",
     "text": [
      "45 45\n"
     ]
    }
   ],
   "source": [
    "# 조회한 데이터에 개수 조회\n",
    "# QuerySet.count(), len(QuerySet)\n",
    "qs = Choice.objects.all()\n",
    "print(qs.count(), len(qs))"
   ]
  },
  {
   "cell_type": "code",
   "execution_count": 26,
   "id": "7154eef7",
   "metadata": {},
   "outputs": [],
   "source": [
    "#집계함수들 import\n",
    "from django.db.models import Count, Sum, Avg, Min, Max, StdDev, Variance"
   ]
  },
  {
   "cell_type": "code",
   "execution_count": null,
   "id": "57534b5c",
   "metadata": {},
   "outputs": [],
   "source": []
  },
  {
   "cell_type": "code",
   "execution_count": null,
   "id": "3857e9f1",
   "metadata": {},
   "outputs": [],
   "source": []
  },
  {
   "cell_type": "code",
   "execution_count": null,
   "id": "f300c54c",
   "metadata": {},
   "outputs": [],
   "source": []
  }
 ],
 "metadata": {
  "kernelspec": {
   "display_name": "Python 3 (ipykernel)",
   "language": "python",
   "name": "python3"
  },
  "language_info": {
   "codemirror_mode": {
    "name": "ipython",
    "version": 3
   },
   "file_extension": ".py",
   "mimetype": "text/x-python",
   "name": "python",
   "nbconvert_exporter": "python",
   "pygments_lexer": "ipython3",
   "version": "3.8.11"
  }
 },
 "nbformat": 4,
 "nbformat_minor": 5
}
